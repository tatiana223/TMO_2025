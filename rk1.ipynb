{
 "cells": [
  {
   "cell_type": "markdown",
   "id": "7d3b9bff",
   "metadata": {},
   "source": [
    "1. Масштабирование данных (для одного признака)"
   ]
  },
  {
   "cell_type": "code",
   "execution_count": null,
   "id": "3109d528",
   "metadata": {},
   "outputs": [],
   "source": [
    "from sklearn.preprocessing import StandardScaler\n",
    "import pandas as pd\n",
    "\n",
    "data = pd.read_csv('Admission_Predict_Ver1.1.csv')\n",
    "\n",
    "scaler = StandardScaler()\n",
    "data['GRE Score Scaled'] = scaler.fit_transform(data[['GRE Score']])"
   ]
  },
  {
   "cell_type": "markdown",
   "id": "bdb2ec5d",
   "metadata": {},
   "source": [
    "2. Преобразование категориальных признаков в количественные"
   ]
  },
  {
   "cell_type": "code",
   "execution_count": 5,
   "id": "e859824b",
   "metadata": {},
   "outputs": [
    {
     "name": "stdout",
     "output_type": "stream",
     "text": [
      "   Serial No.  GRE Score  TOEFL Score  University Rating  SOP  LOR   CGPA  \\\n",
      "0           1        337          118                  4  4.5   4.5  9.65   \n",
      "1           2        324          107                  4  4.0   4.5  8.87   \n",
      "2           3        316          104                  3  3.0   3.5  8.00   \n",
      "3           4        322          110                  3  3.5   2.5  8.67   \n",
      "4           5        314          103                  2  2.0   3.0  8.21   \n",
      "\n",
      "   Research  Chance of Admit   GRE Score Scaled  ...  University_Rating_1  \\\n",
      "0         1              0.92          1.819238  ...                False   \n",
      "1         1              0.76          0.667148  ...                False   \n",
      "2         1              0.72         -0.041830  ...                False   \n",
      "3         1              0.80          0.489904  ...                False   \n",
      "4         0              0.65         -0.219074  ...                False   \n",
      "\n",
      "   University_Rating_2  University_Rating_3  University_Rating_4  \\\n",
      "0                False                False                 True   \n",
      "1                False                False                 True   \n",
      "2                False                 True                False   \n",
      "3                False                 True                False   \n",
      "4                 True                False                False   \n",
      "\n",
      "   University_Rating_5  University_Rating_1  University_Rating_2  \\\n",
      "0                False                False                False   \n",
      "1                False                False                False   \n",
      "2                False                False                False   \n",
      "3                False                False                False   \n",
      "4                False                False                 True   \n",
      "\n",
      "   University_Rating_3  University_Rating_4  University_Rating_5  \n",
      "0                False                 True                False  \n",
      "1                False                 True                False  \n",
      "2                 True                False                False  \n",
      "3                 True                False                False  \n",
      "4                False                False                False  \n",
      "\n",
      "[5 rows x 26 columns]\n"
     ]
    }
   ],
   "source": [
    "import pandas as pd\n",
    "from sklearn.preprocessing import StandardScaler, LabelEncoder\n",
    "\n",
    "# 1. Масштабирование 'GRE Score'\n",
    "scaler = StandardScaler()\n",
    "data['GRE Score Scaled'] = scaler.fit_transform(data[['GRE Score']])\n",
    "\n",
    "# 2.1. Label Encoding для 'University Rating'\n",
    "label_encoder = LabelEncoder()\n",
    "data['University Rating Label'] = label_encoder.fit_transform(data['University Rating'])\n",
    "\n",
    "# 2.2. One Hot Encoding для 'University Rating'\n",
    "one_hot = pd.get_dummies(data['University Rating'], prefix='University_Rating')\n",
    "data = pd.concat([data, one_hot], axis=1)\n",
    "\n",
    "print(data.head())"
   ]
  },
  {
   "cell_type": "markdown",
   "id": "75925e92",
   "metadata": {},
   "source": [
    "Какие методы Вы использовали для решения задачи и почему?"
   ]
  },
  {
   "cell_type": "markdown",
   "id": "dab42221",
   "metadata": {},
   "source": [
    "1. Масштабирование признака (StandardScaler)\n",
    "\n",
    "Использовала StandardScaler из библиотеки sklearn для признака GRE Score.\n",
    "\n",
    "GRE Score — числовой признак с широким диапазоном (260–340). Масштабирование необходимо для:\n",
    "\n",
    "a) Алгоритмов, чувствительных к масштабу (SVM, KNN, линейная регрессия).\n",
    "\n",
    "b) Ускорения сходимости градиентного спуска (в нейросетях или логистической регрессии).\n",
    "\n",
    "StandardScaler выбрала вместо MinMaxScaler, потому что:\n",
    "\n",
    "a) Данные не ограничены жёсткими границами (например, 0–1).\n",
    "\n",
    "b) Устойчив к выбросам (редкие очень высокие/низкие значения не исказят трансформацию)."
   ]
  },
  {
   "cell_type": "markdown",
   "id": "02a75fe8",
   "metadata": {},
   "source": [
    "2. Label Encoding для University Rating\n",
    "\n",
    "Применила LabelEncoder из sklearn, который заменил категории целыми числами\n",
    "\n",
    "University Rating — порядковая категория (рейтинг 5 > 4 > 3 и т.д.).\n",
    "\n",
    "Label Encoding сохраняет информацию о ранжировании, что полезно для деревьев решений (могут учитывать порядок) и простота и экономия памяти (один столбец вместо нескольких, как в OHE).\n",
    "\n",
    "\n"
   ]
  },
  {
   "cell_type": "markdown",
   "id": "94c13163",
   "metadata": {},
   "source": [
    "3. One Hot Encoding (OHE) для University Rating\n",
    "\n",
    "Использовала pd.get_dummies() для создания бинарных столбцов, потому что:\n",
    "Альтернатива для моделей, которые не должны учитывать порядок категорий. Например: Логистическая регрессия (может решить, что 5 «важнее» 1 из-за численного значения). \n",
    "\n",
    "А так же устраняет искусственную порядковую зависимость, которая может исказить предсказания.\n",
    "\n",
    "Но есть недостаток\n",
    "Этот метод увеличивает размерность данных (проблема для рейтингов с большим числом уникальных значений, но здесь их всего 5).\n",
    "\n",
    "\n"
   ]
  }
 ],
 "metadata": {
  "kernelspec": {
   "display_name": "Python 3",
   "language": "python",
   "name": "python3"
  },
  "language_info": {
   "codemirror_mode": {
    "name": "ipython",
    "version": 3
   },
   "file_extension": ".py",
   "mimetype": "text/x-python",
   "name": "python",
   "nbconvert_exporter": "python",
   "pygments_lexer": "ipython3",
   "version": "3.13.2"
  }
 },
 "nbformat": 4,
 "nbformat_minor": 5
}
